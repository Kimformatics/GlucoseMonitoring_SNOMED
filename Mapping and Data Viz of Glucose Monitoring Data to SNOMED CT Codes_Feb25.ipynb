{
 "cells": [
  {
   "cell_type": "code",
   "execution_count": null,
   "id": "fb8986d9",
   "metadata": {},
   "outputs": [],
   "source": [
    "# Import libraries\n",
    "import pandas as pd\n",
    "import numpy as np"
   ]
  },
  {
   "cell_type": "code",
   "execution_count": null,
   "id": "9e95c386",
   "metadata": {},
   "outputs": [],
   "source": [
    "# Load data\n",
    "glucose_data = pd.read_csv(\"glucose_monitor_data_100_patients.csv\")\n",
    "snomed_ct_data = pd.read_csv(\"snomed_ct_mapping.csv\")"
   ]
  },
  {
   "cell_type": "code",
   "execution_count": null,
   "id": "f40dba43",
   "metadata": {},
   "outputs": [],
   "source": [
    "# Convert SNOMED CT data into a dictionary \n",
    "snomed_dict = dict(zip(snomed_ct_data[\"Variable\"], snomed_ct_data[\"SNOMED_CT_Code\"]))\n",
    "snomed_dict"
   ]
  },
  {
   "cell_type": "code",
   "execution_count": null,
   "id": "9f00d90b",
   "metadata": {},
   "outputs": [],
   "source": [
    "# change name from original dataset\n",
    "glucose_data_mapped = glucose_data.copy()"
   ]
  },
  {
   "cell_type": "code",
   "execution_count": null,
   "id": "787ecee7",
   "metadata": {},
   "outputs": [],
   "source": [
    "# View first 5 rows\n",
    "print(glucose_data_mapped.head())"
   ]
  },
  {
   "cell_type": "code",
   "execution_count": null,
   "id": "f234d352",
   "metadata": {},
   "outputs": [],
   "source": [
    "# Apply SNOMED CT mapping to glucose monitoring data\n",
    "glucose_data_mapped[\"Glucose_Level_SNOMED\"] = snomed_dict.get(\"Glucose Level\", None)\n",
    "glucose_data_mapped[\"Meal_Status_SNOMED\"] = snomed_dict.get(\"Meal Status\", None)\n",
    "glucose_data_mapped[\"Insulin_Dose_SNOMED\"] = snomed_dict.get(\"Insulin Dose\", None)\n",
    "glucose_data_mapped[\"Exercise_Level_SNOMED\"] = snomed_dict.get(\"Exercise Level\", None)\n",
    "glucose_data_mapped[\"HbA1c_SNOMED\"] = snomed_dict.get(\"HbA1c\", None)"
   ]
  },
  {
   "cell_type": "code",
   "execution_count": null,
   "id": "1e3e0a7c",
   "metadata": {},
   "outputs": [],
   "source": [
    "# Save the mapped data\n",
    "mappedGlucoseData = \"glucose_monitor_data_mapped_python.csv\"\n",
    "glucose_data_mapped.to_csv(mappedGlucoseData, index=False)\n"
   ]
  },
  {
   "cell_type": "markdown",
   "id": "693422e6",
   "metadata": {},
   "source": [
    "# Data Viz"
   ]
  },
  {
   "cell_type": "code",
   "execution_count": null,
   "id": "f409d481",
   "metadata": {},
   "outputs": [],
   "source": [
    "import matplotlib.pyplot as plt\n",
    "import seaborn as sns"
   ]
  },
  {
   "cell_type": "markdown",
   "id": "625348d7",
   "metadata": {},
   "source": [
    "### Distribution / Histogram of Glucose Levels"
   ]
  },
  {
   "cell_type": "code",
   "execution_count": null,
   "id": "9f7a5d81",
   "metadata": {},
   "outputs": [],
   "source": [
    "plt.figure(figsize=(8, 5))\n",
    "sns.histplot(glucose_data_mapped[\"Glucose_Level_mg_dL\"], bins=20, kde=True)\n",
    "plt.xlabel(\"Glucose Level (mg/dL)\")\n",
    "plt.ylabel(\"Frequency\")\n",
    "plt.title(\"Distribution of Glucose Levels\")\n",
    "plt.show()"
   ]
  },
  {
   "cell_type": "markdown",
   "id": "32915576",
   "metadata": {},
   "source": [
    "### Boxplot of HbA1c Levels by Meal Status"
   ]
  },
  {
   "cell_type": "code",
   "execution_count": null,
   "id": "2ec547de",
   "metadata": {},
   "outputs": [],
   "source": [
    "plt.figure(figsize=(8, 5))\n",
    "sns.boxplot(x=glucose_data_mapped[\"Meal_Status\"], y=glucose_data_mapped[\"HbA1c_Percentage\"])\n",
    "plt.xlabel(\"Meal Status\")\n",
    "plt.ylabel(\"HbA1c (%)\")\n",
    "plt.title(\"HbA1c Levels by Meal Status\")\n",
    "plt.show()"
   ]
  },
  {
   "cell_type": "markdown",
   "id": "4c7a0fcd",
   "metadata": {},
   "source": [
    "### Time Series of Glucose Levels"
   ]
  },
  {
   "cell_type": "code",
   "execution_count": null,
   "id": "7f45fbfb",
   "metadata": {},
   "outputs": [],
   "source": [
    "glucose_data_mapped[\"Timestamp\"] = pd.to_datetime(glucose_data_mapped[\"Timestamp\"])\n",
    "plt.figure(figsize=(10, 5))\n",
    "sns.lineplot(x=glucose_data_mapped[\"Timestamp\"], y=glucose_data_mapped[\"Glucose_Level_mg_dL\"], marker=\"o\")\n",
    "plt.xlabel(\"Time\")\n",
    "plt.ylabel(\"Glucose Level (mg/dL)\")\n",
    "plt.title(\"Glucose Levels Over Time\")\n",
    "plt.xticks(rotation=45)\n",
    "plt.show()"
   ]
  },
  {
   "cell_type": "markdown",
   "id": "16004cdd",
   "metadata": {},
   "source": [
    "### Box Plot of Glucose Level vs. Exercise Level"
   ]
  },
  {
   "cell_type": "code",
   "execution_count": null,
   "id": "974e800c",
   "metadata": {},
   "outputs": [],
   "source": [
    "# Label medians\n",
    "# Box Plot of Glucose Level vs. Exercise Level with Median Values\n",
    "plt.figure(figsize=(8, 5))\n",
    "boxplot_data = [glucose_data_mapped[glucose_data_mapped[\"Exercise_Level\"] == level][\"Glucose_Level_mg_dL\"] \n",
    "                for level in [\"Low\", \"Moderate\", \"High\"]]\n",
    "\n",
    "# Create the boxplot\n",
    "bp = plt.boxplot(boxplot_data, labels=[\"Low\", \"Moderate\", \"High\"], patch_artist=True,\n",
    "                 boxprops=dict(facecolor=\"lightblue\", color=\"black\"),\n",
    "                 medianprops=dict(color=\"red\"))\n",
    "\n",
    "# Add median values as text\n",
    "medians = [round(np.median(data), 1) for data in boxplot_data]\n",
    "for i, median in enumerate(medians, 1):\n",
    "    plt.text(i, median, str(median), ha=\"center\", va=\"bottom\", fontsize=10, color=\"red\", fontweight=\"bold\")\n",
    "\n",
    "plt.xlabel(\"Exercise Level\")\n",
    "plt.ylabel(\"Glucose Level (mg/dL)\")\n",
    "plt.title(\"Box Plot: Glucose Level vs. Exercise Level (with Median Values)\")\n",
    "plt.grid(axis=\"y\", linestyle=\"--\", alpha=0.7)\n",
    "plt.show()\n"
   ]
  }
 ],
 "metadata": {
  "kernelspec": {
   "display_name": "Python 3 (ipykernel)",
   "language": "python",
   "name": "python3"
  },
  "language_info": {
   "codemirror_mode": {
    "name": "ipython",
    "version": 3
   },
   "file_extension": ".py",
   "mimetype": "text/x-python",
   "name": "python",
   "nbconvert_exporter": "python",
   "pygments_lexer": "ipython3",
   "version": "3.9.13"
  }
 },
 "nbformat": 4,
 "nbformat_minor": 5
}
